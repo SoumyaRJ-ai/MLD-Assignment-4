{
 "cells": [
  {
   "cell_type": "code",
   "execution_count": 5,
   "metadata": {},
   "outputs": [
    {
     "name": "stdout",
     "output_type": "stream",
     "text": [
      "['Bhubaneswar', 'KhordhaRoad']\n"
     ]
    }
   ],
   "source": [
    "# Write a function filter_long_words() that takes a list of words and an integer n and returns the list of words that are \n",
    "# longer than n\n",
    "\n",
    "def filter_long_words(seq,n):\n",
    "    out_list=[]\n",
    "    for item in seq:\n",
    "        if len(item)>n:\n",
    "            out_list.append(item)\n",
    "    print(out_list)\n",
    "    \n",
    "\n",
    "list1 = [\"Soumya\",\"Ranjan\",\"Jena\",\"Bhubaneswar\",\"Odisha\",\"KhordhaRoad\"]\n",
    "filter_long_words(list1,6)"
   ]
  }
 ],
 "metadata": {
  "kernelspec": {
   "display_name": "Python 3",
   "language": "python",
   "name": "python3"
  },
  "language_info": {
   "codemirror_mode": {
    "name": "ipython",
    "version": 3
   },
   "file_extension": ".py",
   "mimetype": "text/x-python",
   "name": "python",
   "nbconvert_exporter": "python",
   "pygments_lexer": "ipython3",
   "version": "3.7.6"
  }
 },
 "nbformat": 4,
 "nbformat_minor": 4
}
