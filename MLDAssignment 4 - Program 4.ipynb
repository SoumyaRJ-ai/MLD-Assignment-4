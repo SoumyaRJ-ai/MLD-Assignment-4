{
 "cells": [
  {
   "cell_type": "code",
   "execution_count": 29,
   "metadata": {},
   "outputs": [
    {
     "name": "stdout",
     "output_type": "stream",
     "text": [
      "Enter a string having length 1 to check if vowel or not: E\n",
      "Returned True 'E' Is VOWEL\n"
     ]
    }
   ],
   "source": [
    "# Write a Python function which takes a character (i.e. a string of length 1) and returns True if it is a vowel, False otherwise\n",
    "\n",
    "def vowelornot(char):\n",
    "    list_vowels = [\"A\",\"E\",\"I\",\"O\",\"U\"]\n",
    "    for items in list_vowels:\n",
    "        if items == char.upper():\n",
    "            return True\n",
    "    else:\n",
    "        return False\n",
    "\n",
    "string = str(input(\"Enter a string having length 1 to check if vowel or not: \"))\n",
    "val = vowelornot(string)\n",
    "if val == True:\n",
    "    print(\"Returned {0} '{1}'\".format(val,string),\"Is VOWEL\")\n",
    "else:\n",
    "    print(\"Returned {0} '{1}'\".format(val,string),\"Is NOT VOWEL\")"
   ]
  }
 ],
 "metadata": {
  "kernelspec": {
   "display_name": "Python 3",
   "language": "python",
   "name": "python3"
  },
  "language_info": {
   "codemirror_mode": {
    "name": "ipython",
    "version": 3
   },
   "file_extension": ".py",
   "mimetype": "text/x-python",
   "name": "python",
   "nbconvert_exporter": "python",
   "pygments_lexer": "ipython3",
   "version": "3.7.6"
  }
 },
 "nbformat": 4,
 "nbformat_minor": 4
}
