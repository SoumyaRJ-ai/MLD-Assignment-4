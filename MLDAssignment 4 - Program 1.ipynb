{
 "cells": [
  {
   "cell_type": "code",
   "execution_count": 33,
   "metadata": {},
   "outputs": [
    {
     "name": "stdout",
     "output_type": "stream",
     "text": [
      "Enter 3 values separated by space: 3 4 5\n",
      "Area of the triangle is:6.0 cubic centimeter\n"
     ]
    }
   ],
   "source": [
    "# Write a Python Program(with class concepts) to find the area of the triangle using the below formula.\n",
    "# area = (s*(s-a)*(s-b)*(s-c)) ** 0.5\n",
    "# Function to take the length of the sides of triangle from user should be defined in the parent class and function to \n",
    "# calculate the area should be defined in subclass.\n",
    "\n",
    "class Triangle:\n",
    "    \n",
    "    def lengths(self,a,b,c):\n",
    "        self.a = a\n",
    "        self.b = b\n",
    "        self.c = c\n",
    "\n",
    "class Area(Triangle):\n",
    "    \n",
    "    def calculate(self,s,*args):\n",
    "        super(Area,self).lengths(*args)\n",
    "        self.s = s\n",
    "        output = (s*(s-self.a)*(s-self.b)*(s-self.c)) ** 0.5\n",
    "        print(\"Area of the triangle is:{0} cubic centimeter\".format(output))\n",
    "\n",
    "x, y, z = [int(x) for x in input(\"Enter 3 values separated by space: \").split()]\n",
    "s = float((x + y + z)/2)\n",
    "triobj = Area()\n",
    "triobj.calculate(s,x,y,z)"
   ]
  }
 ],
 "metadata": {
  "kernelspec": {
   "display_name": "Python 3",
   "language": "python",
   "name": "python3"
  },
  "language_info": {
   "codemirror_mode": {
    "name": "ipython",
    "version": 3
   },
   "file_extension": ".py",
   "mimetype": "text/x-python",
   "name": "python",
   "nbconvert_exporter": "python",
   "pygments_lexer": "ipython3",
   "version": "3.7.6"
  }
 },
 "nbformat": 4,
 "nbformat_minor": 4
}
